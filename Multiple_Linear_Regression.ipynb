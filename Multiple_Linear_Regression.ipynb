{
  "nbformat": 4,
  "nbformat_minor": 0,
  "metadata": {
    "colab": {
      "name": "Multiple Linear Regression.ipynb",
      "provenance": [],
      "toc_visible": true,
      "authorship_tag": "ABX9TyODtn09HRLrmI/9R8pNZq6k",
      "include_colab_link": true
    },
    "kernelspec": {
      "name": "python3",
      "display_name": "Python 3"
    }
  },
  "cells": [
    {
      "cell_type": "markdown",
      "metadata": {
        "id": "view-in-github",
        "colab_type": "text"
      },
      "source": [
        "<a href=\"https://colab.research.google.com/github/Aashrut/Machine-Learning/blob/master/Multiple_Linear_Regression.ipynb\" target=\"_parent\"><img src=\"https://colab.research.google.com/assets/colab-badge.svg\" alt=\"Open In Colab\"/></a>"
      ]
    },
    {
      "cell_type": "markdown",
      "metadata": {
        "id": "6KXnQsdzxlWm",
        "colab_type": "text"
      },
      "source": [
        "#Data Preprocessing"
      ]
    },
    {
      "cell_type": "code",
      "metadata": {
        "id": "QqcgnDj7xvGk",
        "colab_type": "code",
        "colab": {}
      },
      "source": [
        "#Import the libraries\n",
        "import numpy as np\n",
        "import matplotlib.pyplot as plt\n",
        "import pandas as pd"
      ],
      "execution_count": 0,
      "outputs": []
    },
    {
      "cell_type": "code",
      "metadata": {
        "id": "_Yuw-_Bn5dZW",
        "colab_type": "code",
        "colab": {}
      },
      "source": [
        "#Import the dataset\n",
        "data = pd.read_csv('Placement_Data.csv')\n",
        "x = data.iloc[:, :-2].values\n",
        "y = data.iloc[:, -1].values"
      ],
      "execution_count": 0,
      "outputs": []
    },
    {
      "cell_type": "code",
      "metadata": {
        "id": "IL66RBxX5iL7",
        "colab_type": "code",
        "colab": {}
      },
      "source": [
        "#Handle missing data\n",
        "from sklearn.impute import SimpleImputer\n",
        "imputer_y = SimpleImputer(missing_values=np.nan, strategy='mean')\n",
        "imputer_y.fit(y.reshape(-1,1))\n",
        "y = imputer_y.transform(y.reshape(-1,1))"
      ],
      "execution_count": 0,
      "outputs": []
    },
    {
      "cell_type": "code",
      "metadata": {
        "id": "3twLQhox5unn",
        "colab_type": "code",
        "colab": {}
      },
      "source": [
        "#Encoding categorical data that doesn’t have binary result\n",
        "from sklearn.compose import ColumnTransformer\n",
        "from sklearn.preprocessing import OneHotEncoder\n",
        "ct = ColumnTransformer(transformers=[('encoder', OneHotEncoder(), [2])], remainder='passthrough')\n",
        "x = np.array(ct.fit_transform(x))"
      ],
      "execution_count": 0,
      "outputs": []
    },
    {
      "cell_type": "code",
      "metadata": {
        "id": "TuUq7VM4561o",
        "colab_type": "code",
        "colab": {}
      },
      "source": [
        "#Encoding categorical data that have binary result\n",
        "from sklearn.preprocessing import LabelEncoder\n",
        "le = LabelEncoder()\n",
        "x[:, 6] = le.fit_transform(x[:, 6])"
      ],
      "execution_count": 0,
      "outputs": []
    },
    {
      "cell_type": "code",
      "metadata": {
        "id": "svqjIrEz6ALo",
        "colab_type": "code",
        "colab": {}
      },
      "source": [
        "#Splitting the data into the Training set and Test set\n",
        "from sklearn.model_selection import train_test_split\n",
        "x_train, x_test, y_train, y_test = train_test_split(x, y, test_size=0.2, random_state=42)"
      ],
      "execution_count": 0,
      "outputs": []
    },
    {
      "cell_type": "markdown",
      "metadata": {
        "id": "bfcCjtin6EzT",
        "colab_type": "text"
      },
      "source": [
        "#Creating Multiple Linear Regression model"
      ]
    },
    {
      "cell_type": "code",
      "metadata": {
        "id": "sAAJe3sI6JiJ",
        "colab_type": "code",
        "colab": {
          "base_uri": "https://localhost:8080/",
          "height": 34
        },
        "outputId": "e825a67c-6ee0-4759-d2ee-996e5f56b2dd"
      },
      "source": [
        "#creating and training model on training set\n",
        "from sklearn.linear_model import LinearRegression\n",
        "multi_regressor = LinearRegression()\n",
        "multi_regressor.fit(x_train, y_train)"
      ],
      "execution_count": 7,
      "outputs": [
        {
          "output_type": "execute_result",
          "data": {
            "text/plain": [
              "LinearRegression(copy_X=True, fit_intercept=True, n_jobs=None, normalize=False)"
            ]
          },
          "metadata": {
            "tags": []
          },
          "execution_count": 7
        }
      ]
    },
    {
      "cell_type": "code",
      "metadata": {
        "id": "N86w6jmu6WGc",
        "colab_type": "code",
        "colab": {
          "base_uri": "https://localhost:8080/",
          "height": 748
        },
        "outputId": "33cb05c0-ecf3-4b11-b055-88b94bc76f5f"
      },
      "source": [
        "#predicting result on test set\n",
        "y_pred = multi_regressor.predict(x_test)\n",
        "np.set_printoptions(precision=2)\n",
        "print(np.concatenate((y_pred.reshape(len(y_pred),1), y_test.reshape(len(y_test),1)),1))"
      ],
      "execution_count": 8,
      "outputs": [
        {
          "output_type": "stream",
          "text": [
            "[[279467.11 300000.  ]\n",
            " [297115.28 295000.  ]\n",
            " [326914.13 250000.  ]\n",
            " [269526.83 220000.  ]\n",
            " [310740.53 200000.  ]\n",
            " [283456.07 288655.41]\n",
            " [297594.89 288655.41]\n",
            " [305649.1  218000.  ]\n",
            " [312931.58 210000.  ]\n",
            " [262849.78 220000.  ]\n",
            " [271021.29 288655.41]\n",
            " [253032.39 250000.  ]\n",
            " [286916.36 288655.41]\n",
            " [258839.85 288655.41]\n",
            " [270221.58 275000.  ]\n",
            " [304194.59 288655.41]\n",
            " [287903.54 290000.  ]\n",
            " [291523.91 288655.41]\n",
            " [334476.27 340000.  ]\n",
            " [260773.87 275000.  ]\n",
            " [289511.16 252000.  ]\n",
            " [255666.46 260000.  ]\n",
            " [297969.26 288655.41]\n",
            " [333108.82 288655.41]\n",
            " [268394.16 360000.  ]\n",
            " [259583.51 400000.  ]\n",
            " [343017.35 288655.41]\n",
            " [291843.99 300000.  ]\n",
            " [263727.19 288655.41]\n",
            " [276665.5  690000.  ]\n",
            " [305081.45 300000.  ]\n",
            " [272588.55 220000.  ]\n",
            " [262558.9  250000.  ]\n",
            " [276652.74 264000.  ]\n",
            " [292614.35 250000.  ]\n",
            " [322677.69 400000.  ]\n",
            " [297832.72 288655.41]\n",
            " [261222.75 200000.  ]\n",
            " [336960.34 276000.  ]\n",
            " [275452.52 220000.  ]\n",
            " [283176.31 300000.  ]\n",
            " [277240.29 276000.  ]\n",
            " [294930.98 240000.  ]]\n"
          ],
          "name": "stdout"
        }
      ]
    },
    {
      "cell_type": "code",
      "metadata": {
        "id": "82exdCyF6Y7E",
        "colab_type": "code",
        "colab": {
          "base_uri": "https://localhost:8080/",
          "height": 34
        },
        "outputId": "4539bbd9-a762-450d-860d-2339d42099ce"
      },
      "source": [
        "#Evaluating performance of model\n",
        "from sklearn.metrics import r2_score\n",
        "print(r2_score(y_test, y_pred))"
      ],
      "execution_count": 9,
      "outputs": [
        {
          "output_type": "stream",
          "text": [
            "-0.09036772963018391\n"
          ],
          "name": "stdout"
        }
      ]
    }
  ]
}