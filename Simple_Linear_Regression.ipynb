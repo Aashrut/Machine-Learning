{
  "nbformat": 4,
  "nbformat_minor": 0,
  "metadata": {
    "colab": {
      "name": "Simple Linear Regression.ipynb",
      "provenance": [],
      "toc_visible": true,
      "authorship_tag": "ABX9TyMXnRitWaUvK1gy0MRxuc+c",
      "include_colab_link": true
    },
    "kernelspec": {
      "name": "python3",
      "display_name": "Python 3"
    }
  },
  "cells": [
    {
      "cell_type": "markdown",
      "metadata": {
        "id": "view-in-github",
        "colab_type": "text"
      },
      "source": [
        "<a href=\"https://colab.research.google.com/github/Aashrut/Machine-Learning/blob/master/Simple_Linear_Regression.ipynb\" target=\"_parent\"><img src=\"https://colab.research.google.com/assets/colab-badge.svg\" alt=\"Open In Colab\"/></a>"
      ]
    },
    {
      "cell_type": "markdown",
      "metadata": {
        "id": "fNOXR0BwrUxe",
        "colab_type": "text"
      },
      "source": [
        "#Data Preprocessing\n"
      ]
    },
    {
      "cell_type": "code",
      "metadata": {
        "id": "Gl7aGSktrZyn",
        "colab_type": "code",
        "colab": {}
      },
      "source": [
        "#Import the libraries\n",
        "import numpy as np\n",
        "import matplotlib.pyplot as plt\n",
        "import pandas as pd"
      ],
      "execution_count": 0,
      "outputs": []
    },
    {
      "cell_type": "code",
      "metadata": {
        "id": "Gk7Ph-Qcrltk",
        "colab_type": "code",
        "colab": {}
      },
      "source": [
        "#Import the dataset\n",
        "data = pd.read_csv('Placement_Data.csv')\n",
        "x = data.iloc[:, 5].values\n",
        "y = data.iloc[:, -1].values"
      ],
      "execution_count": 0,
      "outputs": []
    },
    {
      "cell_type": "code",
      "metadata": {
        "id": "VEraoozLrvdN",
        "colab_type": "code",
        "colab": {}
      },
      "source": [
        "#Handle missing data\n",
        "from sklearn.impute import SimpleImputer\n",
        "imputer_y = SimpleImputer(missing_values=np.nan, strategy='mean')\n",
        "imputer_y.fit(y.reshape(-1,1))\n",
        "y = imputer_y.transform(y.reshape(-1,1))"
      ],
      "execution_count": 0,
      "outputs": []
    },
    {
      "cell_type": "code",
      "metadata": {
        "id": "-9-otaBXr12G",
        "colab_type": "code",
        "colab": {}
      },
      "source": [
        "#Splitting the data into the Training set and Test set\n",
        "from sklearn.model_selection import train_test_split\n",
        "x_train, x_test, y_train, y_test = train_test_split(x, y, test_size=0.2, random_state=42)"
      ],
      "execution_count": 0,
      "outputs": []
    },
    {
      "cell_type": "markdown",
      "metadata": {
        "id": "QPNAUbpNsNMt",
        "colab_type": "text"
      },
      "source": [
        "#Creating Simple Linear Regression model"
      ]
    },
    {
      "cell_type": "code",
      "metadata": {
        "id": "dHVGHjogsOwb",
        "colab_type": "code",
        "outputId": "1ad30db5-1a0e-454c-91fc-3ffca5e6b7a0",
        "colab": {
          "base_uri": "https://localhost:8080/",
          "height": 34
        }
      },
      "source": [
        "#creating and training model on training set\n",
        "from sklearn.linear_model import LinearRegression\n",
        "simple_regressor = LinearRegression()\n",
        "simple_regressor.fit(x_train.reshape(-1,1), y_train)"
      ],
      "execution_count": 5,
      "outputs": [
        {
          "output_type": "execute_result",
          "data": {
            "text/plain": [
              "LinearRegression(copy_X=True, fit_intercept=True, n_jobs=None, normalize=False)"
            ]
          },
          "metadata": {
            "tags": []
          },
          "execution_count": 5
        }
      ]
    },
    {
      "cell_type": "code",
      "metadata": {
        "id": "MXucV4UYsVBe",
        "colab_type": "code",
        "outputId": "d05820c3-0dc5-4fd2-b207-340c847f9295",
        "colab": {
          "base_uri": "https://localhost:8080/",
          "height": 748
        }
      },
      "source": [
        "#predicting result on test set\n",
        "y_pred = simple_regressor.predict(x_test.reshape(-1,1))\n",
        "print(y_pred)"
      ],
      "execution_count": 6,
      "outputs": [
        {
          "output_type": "stream",
          "text": [
            "[[307517.41351389]\n",
            " [272937.31242919]\n",
            " [317752.15446541]\n",
            " [268092.46464148]\n",
            " [288683.06773921]\n",
            " [274148.52437611]\n",
            " [274148.52437611]\n",
            " [305640.03499616]\n",
            " [298372.76331461]\n",
            " [271726.10048226]\n",
            " [274148.52437611]\n",
            " [264458.82880071]\n",
            " [268092.46464148]\n",
            " [266881.25269456]\n",
            " [284698.18043383]\n",
            " [307456.85291655]\n",
            " [278739.01765496]\n",
            " [283838.21995151]\n",
            " [305640.03499616]\n",
            " [284952.53494268]\n",
            " [300795.18720846]\n",
            " [274148.52437611]\n",
            " [292316.70357999]\n",
            " [293527.91552691]\n",
            " [268092.46464148]\n",
            " [288683.06773921]\n",
            " [317328.23028399]\n",
            " [274148.52437611]\n",
            " [271726.10048226]\n",
            " [269303.67658841]\n",
            " [303217.61110231]\n",
            " [287471.85579229]\n",
            " [271726.10048226]\n",
            " [288683.06773921]\n",
            " [278993.37216381]\n",
            " [299826.21765092]\n",
            " [291105.49163306]\n",
            " [268819.19180964]\n",
            " [318963.36641234]\n",
            " [286260.64384536]\n",
            " [281415.79605766]\n",
            " [274148.52437611]\n",
            " [298372.76331461]]\n"
          ],
          "name": "stdout"
        }
      ]
    },
    {
      "cell_type": "code",
      "metadata": {
        "id": "tRB3sapcsYnx",
        "colab_type": "code",
        "outputId": "c8930688-6449-49db-f4c1-4c507afd4ce3",
        "colab": {
          "base_uri": "https://localhost:8080/",
          "height": 295
        }
      },
      "source": [
        "#visualizing the graph of training result\n",
        "plt.scatter(x_train, y_train, color='red')\n",
        "plt.plot(x_train.reshape(-1,1), simple_regressor.predict(x_train.reshape(-1,1)), color='green')\n",
        "plt.title('Salary vs Emploability test Percentage (Training Set)')\n",
        "plt.xlabel('Emploability test Percentage')\n",
        "plt.ylabel('Salary')\n",
        "plt.show()"
      ],
      "execution_count": 7,
      "outputs": [
        {
          "output_type": "display_data",
          "data": {
            "image/png": "[encoded data removed]",
            "text/plain": [
              "<Figure size 432x288 with 1 Axes>"
            ]
          },
          "metadata": {
            "tags": [],
            "needs_background": "light"
          }
        }
      ]
    },
    {
      "cell_type": "code",
      "metadata": {
        "id": "0WeUjryksfDN",
        "colab_type": "code",
        "outputId": "3458b9bc-a1aa-4a1b-b844-7207649d649f",
        "colab": {
          "base_uri": "https://localhost:8080/",
          "height": 295
        }
      },
      "source": [
        "#visualizing the graph of test result\n",
        "plt.scatter(x_test, y_test, color='red')\n",
        "plt.plot(x_test.reshape(-1,1), simple_regressor.predict(x_test.reshape(-1,1)), color='green')\n",
        "plt.title('Salary vs Emploability test Percentage (Test Set)')\n",
        "plt.xlabel('Emploability test Percentage')\n",
        "plt.ylabel('Salary')\n",
        "plt.show()"
      ],
      "execution_count": 8,
      "outputs": [
        {
          "output_type": "display_data",
          "data": {
            "image/png": "[encoded data removed]",
            "text/plain": [
              "<Figure size 432x288 with 1 Axes>"
            ]
          },
          "metadata": {
            "tags": [],
            "needs_background": "light"
          }
        }
      ]
    },
    {
      "cell_type": "markdown",
      "metadata": {
        "id": "4gKspr06xTTv",
        "colab_type": "text"
      },
      "source": [
        "#Evaluating performance of model"
      ]
    },
    {
      "cell_type": "code",
      "metadata": {
        "id": "t2bqOeDZw2dF",
        "colab_type": "code",
        "outputId": "8d92682f-7671-4e36-b4dc-e516b73ab0c7",
        "colab": {
          "base_uri": "https://localhost:8080/",
          "height": 34
        }
      },
      "source": [
        "from sklearn.metrics import r2_score\n",
        "print(r2_score(y_test, y_pred))"
      ],
      "execution_count": 9,
      "outputs": [
        {
          "output_type": "stream",
          "text": [
            "-0.07703015685575232\n"
          ],
          "name": "stdout"
        }
      ]
    }
  ]
}